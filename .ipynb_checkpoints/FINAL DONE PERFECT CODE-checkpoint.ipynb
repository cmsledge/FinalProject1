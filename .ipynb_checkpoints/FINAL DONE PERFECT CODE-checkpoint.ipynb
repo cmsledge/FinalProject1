{
 "cells": [
  {
   "cell_type": "markdown",
   "metadata": {},
   "source": [
    "Shawn Lewis and Chandler Sledge\n",
    "\n",
    "Inputs:\n",
    "Restaurant Cuisine\n",
    "\n",
    "Outputs:\n",
    "restaurant name, restaurant address, and restaurant cuisine\n",
    "\n",
    "Algorithm\n",
    "Part 1\n",
    "1) Import requests and json\n",
    "2) User-defined function for restaurants in Syracuse \n",
    "3) Define the key and url \n",
    "4) Run the file directly by using special variables in a condition\n",
    "5) Repeat if response is ok (5 times)\n",
    "6) Read json and set it to a variable\n",
    "7) Return complete data\n",
    " Part 2\n",
    "1) Assign the user defined function to another variable\n",
    "Part 3\n",
    "1) Print the program title\n",
    "2) Enter a cuisine and set it to a variable\n",
    "3) Set the user input to handle both Uppercase and Lowercase by using the title function\n",
    "4) Set a variable for a boolean expression for false (Helps with error handling) \n",
    "5) Loop for cuisines in restaurants\n",
    "6) Find the restaurant name\n",
    "7) Find the restaurant cuisine \n",
    "8) Find the restaurant address\n",
    "9) If the user input is found in the restaurant cuisine\n",
    "     a) Print the restaurant name, restaurant address, and restaurant cuisine\n",
    "11) Set variable for a boolean expression for true (Helps with error handling) \n",
    "12) If the boolean expression is false\n",
    "     a) Print a message indicating that the input wasn’t found in the results"
   ]
  },
  {
   "cell_type": "code",
   "execution_count": 1,
   "metadata": {},
   "outputs": [],
   "source": [
    "import requests\n",
    "import json"
   ]
  },
  {
   "cell_type": "code",
   "execution_count": 2,
   "metadata": {},
   "outputs": [],
   "source": [
    "def restaurant_in_syracuse():\n",
    "    key = \"5dfceab21259d6eeaefd0977aa806166\"\n",
    "    url= \"https://developers.zomato.com/api/v2.1/search?entity_id=988&entity_type=city\"\n",
    "    if __name__ == '__main__': #runs file directly\n",
    "        r = requests.get(url, headers={'user-key': key})\n",
    "    if r.ok:\n",
    "        data = r.json()\n",
    "    url2 = \"https://developers.zomato.com/api/v2.1/search?entity_id=988&entity_type=city&start=20&count=20\"\n",
    "    if __name__ == '__main__':\n",
    "        r = requests.get(url2, headers={'user-key': key})\n",
    "    if r.ok:\n",
    "        data2 = r.json()\n",
    "    url3 = \"https://developers.zomato.com/api/v2.1/search?entity_id=988&entity_type=city&start=40&count=20\"\n",
    "    if __name__ == '__main__':\n",
    "        r = requests.get(url3, headers={'user-key': key})\n",
    "    if r.ok:\n",
    "        data3 = r.json()\n",
    "    url4 = \"https://developers.zomato.com/api/v2.1/search?entity_id=988&entity_type=city&start=60&count=20\"\n",
    "    if __name__ == '__main__':\n",
    "        r = requests.get(url4, headers={'user-key': key})\n",
    "    if r.ok:\n",
    "        data4 = r.json()\n",
    "    url5 = \"https://developers.zomato.com/api/v2.1/search?entity_id=988&entity_type=city&start=80&count=20\"\n",
    "    if __name__ == '__main__':\n",
    "        r = requests.get(url5, headers={'user-key': key})\n",
    "    if r.ok:\n",
    "        data5 = r.json()\n",
    "    completedata = data['restaurants']+data2['restaurants']+data3['restaurants']+data4['restaurants']+data5['restaurants']\n",
    "    return completedata"
   ]
  },
  {
   "cell_type": "code",
   "execution_count": 3,
   "metadata": {},
   "outputs": [],
   "source": [
    "response_json= restaurant_in_syracuse() #makes it easier to understand "
   ]
  },
  {
   "cell_type": "code",
   "execution_count": 4,
   "metadata": {},
   "outputs": [
    {
     "name": "stdout",
     "output_type": "stream",
     "text": [
      "Dates in Syracuse: The Perfect Restaurant, The Perfect Date\n",
      "What type of cuisine does your date want? Chinese\n",
      "Here is a list of restaurants that have the chinese cuisine below:\n",
      "China Chen 6197 State Route 31 Ste 2, Cicero 13039 Chinese\n",
      "New Ling Ling Chinese Buffet 604 S Main St, Syracuse 13212 Chinese, Sushi\n",
      "China Road 2204 Brewerton Road, Suite 2, Syracuse 13211 Chinese\n"
     ]
    }
   ],
   "source": [
    "print(\"Dates in Syracuse: The Perfect Restaurant, The Perfect Date\")\n",
    "search= input(\"What type of cuisine does your date want? \")\n",
    "search= search.lower()\n",
    "print(\"Here is a list of restaurants that have the %s cuisine below:\" % ( search ))\n",
    "\n",
    "\n",
    "existence = False\n",
    "for row in response_json :\n",
    "    restaurant_name= row['restaurant']['name']\n",
    "    restaurant_cuisine=row['restaurant']['cuisines']\n",
    "    restaurant_address=row['restaurant']['location']['address']\n",
    "    if search in restaurant_cuisine.lower():\n",
    "        print(restaurant_name,restaurant_address,restaurant_cuisine)\n",
    "        existence = True\n",
    "if existence is False:\n",
    "    print(\"Sorry no results for your request.\")"
   ]
  },
  {
   "cell_type": "code",
   "execution_count": null,
   "metadata": {},
   "outputs": [],
   "source": []
  }
 ],
 "metadata": {
  "kernelspec": {
   "display_name": "Python 3",
   "language": "python",
   "name": "python3"
  },
  "language_info": {
   "codemirror_mode": {
    "name": "ipython",
    "version": 3
   },
   "file_extension": ".py",
   "mimetype": "text/x-python",
   "name": "python",
   "nbconvert_exporter": "python",
   "pygments_lexer": "ipython3",
   "version": "3.6.6"
  }
 },
 "nbformat": 4,
 "nbformat_minor": 2
}
